{
  "nbformat": 4,
  "nbformat_minor": 0,
  "metadata": {
    "colab": {
      "provenance": []
    },
    "kernelspec": {
      "name": "python3",
      "display_name": "Python 3"
    },
    "language_info": {
      "name": "python"
    }
  },
  "cells": [
    {
      "cell_type": "code",
      "execution_count": null,
      "metadata": {
        "id": "5puGjqHgMnx9",
        "colab": {
          "base_uri": "https://localhost:8080/"
        },
        "outputId": "e44f0573-f65d-4566-d21c-4614dfbbe83d"
      },
      "outputs": [
        {
          "output_type": "stream",
          "name": "stdout",
          "text": [
            "Requirement already satisfied: matplotlib in /usr/local/lib/python3.10/dist-packages (3.10.0)\n",
            "Requirement already satisfied: deap in /usr/local/lib/python3.10/dist-packages (1.4.1)\n",
            "Requirement already satisfied: contourpy>=1.0.1 in /usr/local/lib/python3.10/dist-packages (from matplotlib) (1.3.1)\n",
            "Requirement already satisfied: cycler>=0.10 in /usr/local/lib/python3.10/dist-packages (from matplotlib) (0.12.1)\n",
            "Requirement already satisfied: fonttools>=4.22.0 in /usr/local/lib/python3.10/dist-packages (from matplotlib) (4.55.3)\n",
            "Requirement already satisfied: kiwisolver>=1.3.1 in /usr/local/lib/python3.10/dist-packages (from matplotlib) (1.4.8)\n",
            "Requirement already satisfied: numpy>=1.23 in /usr/local/lib/python3.10/dist-packages (from matplotlib) (1.26.4)\n",
            "Requirement already satisfied: packaging>=20.0 in /usr/local/lib/python3.10/dist-packages (from matplotlib) (24.2)\n",
            "Requirement already satisfied: pillow>=8 in /usr/local/lib/python3.10/dist-packages (from matplotlib) (11.1.0)\n",
            "Requirement already satisfied: pyparsing>=2.3.1 in /usr/local/lib/python3.10/dist-packages (from matplotlib) (3.2.1)\n",
            "Requirement already satisfied: python-dateutil>=2.7 in /usr/local/lib/python3.10/dist-packages (from matplotlib) (2.8.2)\n",
            "Requirement already satisfied: six>=1.5 in /usr/local/lib/python3.10/dist-packages (from python-dateutil>=2.7->matplotlib) (1.17.0)\n"
          ]
        }
      ],
      "source": [
        "!pip install matplotlib deap"
      ]
    },
    {
      "cell_type": "code",
      "source": [
        "import random\n",
        "import numpy as np\n",
        "import matplotlib.pyplot as plt\n",
        "from deap import base, creator, tools, algorithms"
      ],
      "metadata": {
        "id": "lNPGVr2hdnmF"
      },
      "execution_count": null,
      "outputs": []
    },
    {
      "cell_type": "code",
      "source": [
        "num_locations = 10 # Define how many locations (excluding the depot) the vehicles need to visit\n",
        "locations = [(random.randint(0, 100), random.randint(0, 100)) for _ in range(num_locations)]# Generate random (x, y) coordinates for each location\n",
        "depot = (50, 50)# Define the central depot location as a fixed point\n",
        "num_vehicles = 3# Define how many vehicles are available to visit the locations\n"
      ],
      "metadata": {
        "id": "OukZHJVJQcoc"
      },
      "execution_count": null,
      "outputs": []
    },
    {
      "cell_type": "code",
      "source": [
        "creator.create(\"FitnessMin\", base.Fitness, weights=(-1.0, -1.0))   # Define fitness function to minimize. The two objectives are total distance and balance penalty.\n",
        "creator.create(\"Individual\", list, fitness=creator.FitnessMin)# Define individual structure. Individuals are lists with a fitness attribute.\n",
        "toolbox = base.Toolbox()\n",
        "toolbox.register(\"indices\", random.sample, range(num_locations), num_locations) # Function to generate a list of unique, randomly ordered location indices\n",
        "toolbox.register(\"individual\", tools.initIterate, creator.Individual, toolbox.indices) # Function to create an individual as a shuffled list of location indices\n",
        "toolbox.register(\"population\", tools.initRepeat, list, toolbox.individual)# Function to create a population of individuals\n",
        "\n"
      ],
      "metadata": {
        "id": "ijwc_o8tYjN-",
        "colab": {
          "base_uri": "https://localhost:8080/"
        },
        "outputId": "8e5c4de3-c519-4441-e0b4-ec8bc0129c55"
      },
      "execution_count": null,
      "outputs": [
        {
          "output_type": "stream",
          "name": "stderr",
          "text": [
            "/usr/local/lib/python3.10/dist-packages/deap/creator.py:185: RuntimeWarning: A class named 'Individual' has already been created and it will be overwritten. Consider deleting previous creation of that class or rename it.\n",
            "  warnings.warn(\"A class named '{0}' has already been created and it \"\n"
          ]
        }
      ]
    },
    {
      "cell_type": "code",
      "source": [
        "def evalVRP(individual):\n",
        "    total_distance = 0\n",
        "    distances = [] # Track distance traveled by each vehicle for balance calculation\n",
        "    # Split the list of locations among vehicles, ensuring each starts and ends at the depot\n",
        "\n",
        "    for i in range(num_vehicles):\n",
        "        vehicle_route = [depot] + [locations[individual[j]] for j in range(i, len(individual), num_vehicles)] + [depot]\n",
        "        vehicle_distance = sum(np.linalg.norm(np.array(vehicle_route[k + 1]) - np.array(vehicle_route[k])) for k in range(len(vehicle_route) - 1))\n",
        "        # Calculate total distance traveled by this vehicle\n",
        "        total_distance += vehicle_distance\n",
        "        distances.append(vehicle_distance)\n",
        "    balance_penalty = np.std(distances)# Use standard deviation of distances as a penalty for imbalance among vehicles\n",
        "    return total_distance, balance_penalty\n"
      ],
      "metadata": {
        "id": "d1jg47akxZFj"
      },
      "execution_count": null,
      "outputs": []
    },
    {
      "cell_type": "code",
      "source": [
        "toolbox.register(\"evaluate\", evalVRP)"
      ],
      "metadata": {
        "id": "lO9sxKRAcWC9"
      },
      "execution_count": null,
      "outputs": []
    },
    {
      "cell_type": "markdown",
      "source": [],
      "metadata": {
        "id": "YbaPitKrX1TO"
      }
    },
    {
      "cell_type": "code",
      "source": [
        "toolbox.register(\"mate\", tools.cxPartialyMatched)# Register the crossover function suitable for permutation-based representation\n",
        "toolbox.register(\"mutate\", tools.mutShuffleIndexes, indpb=0.05)# Register the mutation function to shuffle indices with a 5% chance per index\n",
        "toolbox.register(\"select\", tools.selTournament, tournsize=3) # Register the selection function using tournament selection\n"
      ],
      "metadata": {
        "id": "kD4Ur3OcK55w"
      },
      "execution_count": null,
      "outputs": []
    },
    {
      "source": [
        "def plot_routes(individual, title=\"Routes\"):\n",
        "    plt.figure() # Plot locations as blue dots and the depot as a red square\n",
        "    for (x, y) in locations:\n",
        "        plt.plot(x, y, 'bo')\n",
        "    plt.plot(depot[0], depot[1], 'rs')\n",
        "     # Draw routes for each vehicle\n",
        "    for i in range(num_vehicles):\n",
        "        vehicle_route = [depot] + [locations[individual[j]] for j in range(i, len(individual), num_vehicles)] + [depot]\n",
        "        plt.plot(*zip(*vehicle_route), '-', 'rs')\n",
        "    plt.title(title)\n",
        "    plt.xlabel('X Coordinate')\n",
        "    plt.ylabel('Y Coordinate')\n",
        "    plt.show()\n"
      ],
      "cell_type": "code",
      "metadata": {
        "id": "tnMkNF43MinO"
      },
      "execution_count": null,
      "outputs": []
    },
    {
      "cell_type": "code",
      "source": [
        "def main():\n",
        "    random.seed(42)# Seed for reproducibility\n",
        "    pop = toolbox.population(n=300)# Generate initial population\n",
        "    hof = tools.HallOfFame(1)# Hall of Fame to store the best individual\n",
        "\n",
        "        # Setup statistics to track\n",
        "    stats = tools.Statistics(lambda ind: ind.fitness.values)\n",
        "    stats.register(\"avg\", np.mean)\n",
        "    stats.register(\"min\", np.min)\n",
        "     # Run the genetic algorithm\n",
        "    algorithms.eaSimple(pop, toolbox, 0.7, 0.2, 30, stats=stats, halloffame=hof)\n",
        "    return pop, stats, hof\n",
        "\n",
        "if __name__ == \"__main__\":\n",
        "    pop, stats, hof = main()\n",
        "    print(f\"Best individual is {hof[0]}\")\n",
        "    print(f\"Best fitness is {hof[0].fitness}\")"
      ],
      "metadata": {
        "colab": {
          "base_uri": "https://localhost:8080/"
        },
        "collapsed": true,
        "id": "0nMrltMFMtDB",
        "outputId": "13591baf-f52b-4048-e267-756577b084a1"
      },
      "execution_count": null,
      "outputs": [
        {
          "output_type": "stream",
          "name": "stdout",
          "text": [
            "gen\tnevals\tavg    \tmin    \n",
            "0  \t300   \t310.708\t2.32796\n",
            "1  \t220   \t294.605\t2.02384\n",
            "2  \t240   \t286.4  \t2.02995\n",
            "3  \t229   \t284.572\t1.33069\n",
            "4  \t228   \t285.289\t2.87314\n",
            "5  \t218   \t276.204\t3.9518 \n",
            "6  \t220   \t271.731\t2.45992\n",
            "7  \t232   \t271.83 \t4.25977\n",
            "8  \t223   \t267.608\t2.02569\n",
            "9  \t219   \t256.674\t2.72278\n",
            "10 \t251   \t250.713\t7.01534\n",
            "11 \t221   \t240.182\t0.826264\n",
            "12 \t221   \t231.744\t2.72278 \n",
            "13 \t212   \t227.871\t0.826264\n",
            "14 \t216   \t225.656\t3.22016 \n",
            "15 \t222   \t223.709\t8.7409  \n",
            "16 \t229   \t220.153\t11.5058 \n",
            "17 \t230   \t220.57 \t7.01784 \n",
            "18 \t228   \t215.89 \t9.15567 \n",
            "19 \t244   \t209.931\t9.15624 \n",
            "20 \t223   \t207.243\t12.0304 \n",
            "21 \t222   \t209.214\t12.0304 \n",
            "22 \t223   \t206.397\t15.2597 \n",
            "23 \t218   \t206.666\t11.5058 \n",
            "24 \t240   \t207.758\t16.6644 \n",
            "25 \t227   \t207.896\t16.4964 \n",
            "26 \t235   \t206.655\t12.0304 \n",
            "27 \t235   \t208.505\t12.3118 \n",
            "28 \t235   \t206.909\t13.3619 \n",
            "29 \t240   \t208.154\t12.3118 \n",
            "30 \t235   \t205.721\t12.0304 \n",
            "Best individual is [9, 0, 5, 3, 8, 7, 4, 6, 1, 2]\n",
            "Best fitness is (385.50526052239996, 16.716938709281152)\n"
          ]
        }
      ]
    },
    {
      "cell_type": "code",
      "source": [
        "plot_routes(hof[0])"
      ],
      "metadata": {
        "colab": {
          "base_uri": "https://localhost:8080/",
          "height": 472
        },
        "id": "bn2BCp2bbA7F",
        "outputId": "f9ed0120-eaa6-4c53-93d9-4fa5116ebdaa"
      },
      "execution_count": null,
      "outputs": [
        {
          "output_type": "display_data",
          "data": {
            "text/plain": [
              "<Figure size 640x480 with 1 Axes>"
            ],
            "image/png": "[encoded data removed]"
          },
          "metadata": {}
        }
      ]
    },
    {
      "cell_type": "code",
      "source": [],
      "metadata": {
        "id": "jQnlSGYodiaa"
      },
      "execution_count": null,
      "outputs": []
    }
  ]
}